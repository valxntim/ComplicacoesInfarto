{
 "cells": [
  {
   "cell_type": "markdown",
   "id": "9946323b-1bb8-4999-9d55-1b46a3a09fc6",
   "metadata": {},
   "source": [
    "# Predizer Complicações de Infarto do Miocárdio\n",
    "## Por Gustavo Almeida Valentim - 202014468"
   ]
  },
  {
   "cell_type": "markdown",
   "id": "c7ad2d69-db4b-4a6f-904e-1d9079ee6a48",
   "metadata": {},
   "source": [
    "## Importando Bibliotecas que irei utilizar: "
   ]
  },
  {
   "cell_type": "code",
   "execution_count": 70,
   "id": "7d8dbd02-8824-4fc4-8608-19eb85d68573",
   "metadata": {},
   "outputs": [],
   "source": [
    "import pandas as pd\n",
    "from imblearn.combine import SMOTEENN\n",
    "from sklearn.discriminant_analysis import (LinearDiscriminantAnalysis,QuadraticDiscriminantAnalysis)\n",
    "from sklearn.metrics import (accuracy_score, classification_report,confusion_matrix, f1_score, precision_score)\n",
    "from sklearn.model_selection import (StratifiedKFold, cross_val_score,train_test_split)\n",
    "from sklearn.neighbors import KNeighborsClassifier\n",
    "from sklearn.svm import SVC\n",
    "from sklearn.tree import DecisionTreeClassifier\n",
    "from sklearn.utils import resample\n",
    "from matplotlib import pyplot\n",
    "from sklearn.metrics import recall_score"
   ]
  },
  {
   "cell_type": "markdown",
   "id": "73056cda-adb2-4994-923b-b3d0311eb598",
   "metadata": {},
   "source": [
    "## Carregando minha Base de dados: "
   ]
  },
  {
   "cell_type": "code",
   "execution_count": 9,
   "id": "81326a03-2439-4609-a8c8-2421dd837f4b",
   "metadata": {},
   "outputs": [
    {
     "name": "stdout",
     "output_type": "stream",
     "text": [
      "<class 'pandas.core.frame.DataFrame'>\n",
      "RangeIndex: 1700 entries, 0 to 1699\n",
      "Columns: 123 entries, 1 to 123\n",
      "dtypes: int64(13), object(110)\n",
      "memory usage: 1.6+ MB\n"
     ]
    }
   ],
   "source": [
    "# Load dataset\n",
    "data = r'C:\\Users\\Gustavo Valentim\\OneDrive\\Área de Trabalho\\python\\mi_project\\MI.csv'\n",
    "names = list()\n",
    "first_day = [92, 93, 94, 99, 100, 101, 102, 103, 104]\n",
    "for i in range(124):\n",
    "   names.append(i)\n",
    "# transforma em data frame\n",
    "dataset_df = pd.read_csv(data, names=names)\n",
    "# cópia\n",
    "data_pre = dataset_df.copy()\n",
    "# remove colunas dia3\n",
    "data_third = data_pre.drop(columns=[0])\n",
    "names.remove(0)\n",
    "data_third.info()"
   ]
  },
  {
   "cell_type": "markdown",
   "id": "ab1187fc-4bb9-4104-b79a-816d6cee3bd2",
   "metadata": {},
   "source": [
    "## Perceba que temos muitos dados como Object devido às \"?\""
   ]
  },
  {
   "cell_type": "markdown",
   "id": "605d134f-e82b-47d7-aaf1-24b568755dbb",
   "metadata": {},
   "source": [
    "Nesse caso devemos tratar, transformei todos em Nan,e coloquei a mediana em cada argumento faltante, visto que todas as linhas tinham dados faltantes:"
   ]
  },
  {
   "cell_type": "code",
   "execution_count": 23,
   "id": "ecfce6fd-dfd9-434f-a18f-aa60658f6e7e",
   "metadata": {},
   "outputs": [
    {
     "name": "stdout",
     "output_type": "stream",
     "text": [
      "<class 'pandas.core.frame.DataFrame'>\n",
      "RangeIndex: 1700 entries, 0 to 1699\n",
      "Columns: 123 entries, 1 to 123\n",
      "dtypes: float64(110), int64(13)\n",
      "memory usage: 1.6 MB\n"
     ]
    }
   ],
   "source": [
    "for i in names:\n",
    "   # converte a coluna para um tipo númerico\n",
    "   data_third[i] = pd.to_numeric(data_third[i], errors='coerce')\n",
    "   # data_third[i] = pd.to_numeric(data_third[i], errors= 'coerce')\n",
    "for colums in names:\n",
    "   mediana = data_third[colums].median()\n",
    "   data_third[colums] = data_third[colums].fillna(mediana)\n",
    "data_third.info()"
   ]
  },
  {
   "cell_type": "markdown",
   "id": "15d461b7-ed89-45b4-9282-3479b4b6a9b1",
   "metadata": {},
   "source": [
    "## Preparar a Base em 2 conjuntos (treinamento e teste)(70% e 30%)"
   ]
  },
  {
   "cell_type": "code",
   "execution_count": 104,
   "id": "f9c8a734-4a87-40d0-a94f-7d5b1201b076",
   "metadata": {},
   "outputs": [],
   "source": [
    "data_first = data_third.drop(columns=first_day)\n",
    "array = data_third.values\n",
    "array_f = data_first.values\n",
    "X = array[:, :111]\n",
    "y = array[:, 119]  # the last is 122\n",
    "X_f = array_f[:, :102]\n",
    "y_f = array_f[:, 113]  # the last is 113\n",
    "X_train, X_validation, Y_train, Y_validation = train_test_split(X, y, test_size=0.30, random_state=1)\n",
    "X_ftrain, X_fvalidation, Y_ftrain, Y_fvalidation = train_test_split(X_f, y_f, test_size=0.30, random_state=1)"
   ]
  },
  {
   "cell_type": "markdown",
   "id": "20b04454-e242-4921-b4ff-d4b14d95f6df",
   "metadata": {},
   "source": [
    "## Testar os algoritmos de classificação: "
   ]
  },
  {
   "cell_type": "markdown",
   "id": "96a07209-c7d3-45da-b8b9-4a4b6dec774e",
   "metadata": {},
   "source": [
    "## Resolvi testar o QDA muitas de nossas varíaveis são colineares com isso resolvi não seguir com esse algoritmo, já que para resolver isso muitos dados iam ser perdidos"
   ]
  },
  {
   "cell_type": "code",
   "execution_count": 78,
   "id": "9bb13578-90c8-42cd-a4c8-817893028f18",
   "metadata": {},
   "outputs": [
    {
     "name": "stderr",
     "output_type": "stream",
     "text": [
      "C:\\Users\\Gustavo Valentim\\OneDrive\\Área de Trabalho\\python\\venv\\Lib\\site-packages\\sklearn\\discriminant_analysis.py:887: UserWarning: Variables are collinear\n",
      "  warnings.warn(\"Variables are collinear\")\n",
      "C:\\Users\\Gustavo Valentim\\OneDrive\\Área de Trabalho\\python\\venv\\Lib\\site-packages\\sklearn\\discriminant_analysis.py:887: UserWarning: Variables are collinear\n",
      "  warnings.warn(\"Variables are collinear\")\n",
      "C:\\Users\\Gustavo Valentim\\OneDrive\\Área de Trabalho\\python\\venv\\Lib\\site-packages\\sklearn\\discriminant_analysis.py:887: UserWarning: Variables are collinear\n",
      "  warnings.warn(\"Variables are collinear\")\n",
      "C:\\Users\\Gustavo Valentim\\OneDrive\\Área de Trabalho\\python\\venv\\Lib\\site-packages\\sklearn\\discriminant_analysis.py:887: UserWarning: Variables are collinear\n",
      "  warnings.warn(\"Variables are collinear\")\n",
      "C:\\Users\\Gustavo Valentim\\OneDrive\\Área de Trabalho\\python\\venv\\Lib\\site-packages\\sklearn\\discriminant_analysis.py:887: UserWarning: Variables are collinear\n",
      "  warnings.warn(\"Variables are collinear\")\n",
      "C:\\Users\\Gustavo Valentim\\OneDrive\\Área de Trabalho\\python\\venv\\Lib\\site-packages\\sklearn\\discriminant_analysis.py:887: UserWarning: Variables are collinear\n",
      "  warnings.warn(\"Variables are collinear\")\n",
      "C:\\Users\\Gustavo Valentim\\OneDrive\\Área de Trabalho\\python\\venv\\Lib\\site-packages\\sklearn\\discriminant_analysis.py:887: UserWarning: Variables are collinear\n",
      "  warnings.warn(\"Variables are collinear\")\n",
      "C:\\Users\\Gustavo Valentim\\OneDrive\\Área de Trabalho\\python\\venv\\Lib\\site-packages\\sklearn\\discriminant_analysis.py:887: UserWarning: Variables are collinear\n",
      "  warnings.warn(\"Variables are collinear\")\n"
     ]
    },
    {
     "name": "stdout",
     "output_type": "stream",
     "text": [
      "Terceiro dia  = QDA: 0.824375 (0.007687)\n"
     ]
    },
    {
     "name": "stderr",
     "output_type": "stream",
     "text": [
      "C:\\Users\\Gustavo Valentim\\OneDrive\\Área de Trabalho\\python\\venv\\Lib\\site-packages\\sklearn\\discriminant_analysis.py:887: UserWarning: Variables are collinear\n",
      "  warnings.warn(\"Variables are collinear\")\n",
      "C:\\Users\\Gustavo Valentim\\OneDrive\\Área de Trabalho\\python\\venv\\Lib\\site-packages\\sklearn\\discriminant_analysis.py:887: UserWarning: Variables are collinear\n",
      "  warnings.warn(\"Variables are collinear\")\n",
      "C:\\Users\\Gustavo Valentim\\OneDrive\\Área de Trabalho\\python\\venv\\Lib\\site-packages\\sklearn\\discriminant_analysis.py:887: UserWarning: Variables are collinear\n",
      "  warnings.warn(\"Variables are collinear\")\n",
      "C:\\Users\\Gustavo Valentim\\OneDrive\\Área de Trabalho\\python\\venv\\Lib\\site-packages\\sklearn\\discriminant_analysis.py:887: UserWarning: Variables are collinear\n",
      "  warnings.warn(\"Variables are collinear\")\n",
      "C:\\Users\\Gustavo Valentim\\OneDrive\\Área de Trabalho\\python\\venv\\Lib\\site-packages\\sklearn\\discriminant_analysis.py:887: UserWarning: Variables are collinear\n",
      "  warnings.warn(\"Variables are collinear\")\n",
      "C:\\Users\\Gustavo Valentim\\OneDrive\\Área de Trabalho\\python\\venv\\Lib\\site-packages\\sklearn\\discriminant_analysis.py:887: UserWarning: Variables are collinear\n",
      "  warnings.warn(\"Variables are collinear\")\n",
      "C:\\Users\\Gustavo Valentim\\OneDrive\\Área de Trabalho\\python\\venv\\Lib\\site-packages\\sklearn\\discriminant_analysis.py:887: UserWarning: Variables are collinear\n",
      "  warnings.warn(\"Variables are collinear\")\n",
      "C:\\Users\\Gustavo Valentim\\OneDrive\\Área de Trabalho\\python\\venv\\Lib\\site-packages\\sklearn\\discriminant_analysis.py:887: UserWarning: Variables are collinear\n",
      "  warnings.warn(\"Variables are collinear\")\n"
     ]
    }
   ],
   "source": [
    "# Spot Check Algorithms\n",
    "models = []\n",
    "models.append(('QDA', QuadraticDiscriminantAnalysis()))\n",
    "# evaluate each model in turn\n",
    "results = []\n",
    "results_f = []\n",
    "nomes = []\n",
    "for name, model in models:\n",
    "   # oito pois a saida sao oito grupos antes estava 10\n",
    "   kfold = StratifiedKFold(n_splits=8, random_state=1, shuffle=True)\n",
    "   cv_results = cross_val_score(model, X_train, Y_train, cv=kfold, scoring='accuracy')\n",
    "   cv_results_f = cross_val_score(model, X_ftrain, Y_ftrain, cv=kfold, scoring='accuracy')\n",
    "   results_f.append(cv_results_f)\n",
    "   results.append(cv_results)\n",
    "   nomes.append(name)\n",
    "   print('Terceiro dia  = %s: %f (%f)' %(name, cv_results.mean(), cv_results.std()))"
   ]
  },
  {
   "cell_type": "markdown",
   "id": "661eee2b-8a56-4fd7-ade3-0cf380650bea",
   "metadata": {},
   "source": [
    "Com esse estudo resolvi continuar nossa avaliação apenas com o LDA, KNN E CART"
   ]
  },
  {
   "cell_type": "markdown",
   "id": "b08d6639-627b-4458-8cc5-c71bf5b75f42",
   "metadata": {},
   "source": [
    "## Verificando Primeiro dia e Terceiro Dia"
   ]
  },
  {
   "cell_type": "code",
   "execution_count": 79,
   "id": "13f4c4d7-e94b-4b4d-909a-6b3d799f61fe",
   "metadata": {},
   "outputs": [
    {
     "name": "stdout",
     "output_type": "stream",
     "text": [
      "Primeiro dia  = LDA: 0.809286 (0.027689)\n",
      "Terceiro dia  = LDA: 0.808447 (0.031883)\n",
      "Primeiro dia  = CART: 0.739457 (0.027873)\n",
      "Terceiro dia  = CART: 0.758032 (0.026466)\n",
      "Primeiro dia  = KNN: 0.851272 (0.011204)\n",
      "Terceiro dia  = KNN: 0.850427 (0.011418)\n"
     ]
    }
   ],
   "source": [
    "# Spot Check Algorithms\n",
    "models = []\n",
    "models.append(('LDA', LinearDiscriminantAnalysis()))\n",
    "models.append(('CART', DecisionTreeClassifier()))\n",
    "models.append(('KNN', KNeighborsClassifier()))\n",
    "\n",
    "# evaluate each model in turn\n",
    "results = []\n",
    "results_f = []\n",
    "nomes = []\n",
    "for name, model in models:\n",
    "   # oito pois a saida sao oito grupos antes estava 10\n",
    "   kfold = StratifiedKFold(n_splits=8, random_state=1, shuffle=True)\n",
    "   cv_results = cross_val_score(model, X_train, Y_train, cv=kfold, scoring='accuracy')\n",
    "   cv_results_f = cross_val_score(model, X_ftrain, Y_ftrain, cv=kfold, scoring='accuracy')\n",
    "   results_f.append(cv_results_f)\n",
    "   results.append(cv_results)\n",
    "   nomes.append(name)\n",
    "   print('Primeiro dia  = %s: %f (%f)' %(name, cv_results_f.mean(), cv_results_f.std()))\n",
    "   print('Terceiro dia  = %s: %f (%f)' %(name, cv_results.mean(), cv_results.std()))\n",
    "# Compare Algorithms\n",
    "#pyplot.boxplot(results, labels=nomes)\n",
    "#pyplot.title('Algorithm Comparison')\n",
    "#pyplot.show()"
   ]
  },
  {
   "cell_type": "markdown",
   "id": "e464901c-2461-4dca-80f6-23ade57fe63b",
   "metadata": {},
   "source": [
    "Percebemos claramente que o Terceiro dia nos apresentou uma acurácia maior na maioria dos algoritmos de classificação, então irei prosseguir apenas com os métodos do terceiro dia, além de me oferecer um maior número de dados."
   ]
  },
  {
   "cell_type": "markdown",
   "id": "ba3ecaa6-db08-4085-8872-df0cccf7dac6",
   "metadata": {},
   "source": [
    "## Buscando melhores algoritmos"
   ]
  },
  {
   "cell_type": "code",
   "execution_count": 96,
   "id": "bdaa3cc1-8645-4c50-9ebe-a4652005c444",
   "metadata": {},
   "outputs": [
    {
     "data": {
      "image/png": "[encoded data removed]",
      "text/plain": [
       "<Figure size 640x480 with 1 Axes>"
      ]
     },
     "metadata": {},
     "output_type": "display_data"
    }
   ],
   "source": [
    "# Compare Algorithms\n",
    "pyplot.boxplot(results, labels=nomes)\n",
    "pyplot.title('Algorithm Comparison saída 124')\n",
    "pyplot.show()"
   ]
  },
  {
   "cell_type": "markdown",
   "id": "53d35a02-7214-45a3-aa11-519840441d2b",
   "metadata": {},
   "source": [
    "## Como nosso Data Set é muito desbalanceado em todas as saidas Y vamos utilizar o método SMOTEENN, afim de manter as saídas mais estabilizadas:"
   ]
  },
  {
   "cell_type": "markdown",
   "id": "9a5d0bc2-4681-4910-a07c-b4fd5b5f62c5",
   "metadata": {},
   "source": [
    "fontes : (https://www.youtube.com/watch?v=EqIQTN65IZs)(https://imbalanced-learn.org/stable/references/generated/imblearn.combine.SMOTEENN.html)"
   ]
  },
  {
   "cell_type": "code",
   "execution_count": 106,
   "id": "d334751a-1da8-4ecc-9981-e80bd76fd7cf",
   "metadata": {},
   "outputs": [],
   "source": [
    "sm = SMOTEENN(random_state=2)\n",
    "X_train, Y_train = sm.fit_resample(X_train, Y_train.ravel())"
   ]
  },
  {
   "cell_type": "code",
   "execution_count": 74,
   "id": "b594618f-03a5-4b60-a78c-631064eae553",
   "metadata": {},
   "outputs": [
    {
     "name": "stdout",
     "output_type": "stream",
     "text": [
      "114. Supraventricular tachycardia (PREDS_TAH): Nominal\n",
      "0.8333333333333334\n",
      "0.8450980392156863\n",
      "[[426  78]\n",
      " [  1   5]]\n",
      "              precision    recall  f1-score   support\n",
      "\n",
      "         0.0       1.00      0.85      0.92       504\n",
      "         1.0       0.06      0.83      0.11         6\n",
      "\n",
      "    accuracy                           0.85       510\n",
      "   macro avg       0.53      0.84      0.51       510\n",
      "weighted avg       0.99      0.85      0.91       510\n",
      "\n",
      "f1_score:  0.11235955056179775\n"
     ]
    }
   ],
   "source": [
    "# Make predictions on validation dataset\n",
    "model = LinearDiscriminantAnalysis()\n",
    "model.fit(X_train, Y_train)\n",
    "predictions = model.predict(X_validation)\n",
    "# Evaluate predictions\n",
    "f1 = f1_score(Y_validation, predictions)\n",
    "print('114. Supraventricular tachycardia (PREDS_TAH): Nominal')\n",
    "print(recall_score(Y_validation, predictions))\n",
    "print(accuracy_score(Y_validation, predictions))\n",
    "print(confusion_matrix(Y_validation, predictions))\n",
    "print(classification_report(Y_validation, predictions))\n",
    "print('f1_score: ', f1)"
   ]
  },
  {
   "cell_type": "code",
   "execution_count": 75,
   "id": "cbfbcecd-b404-4a7d-8cf4-f3f0168480dc",
   "metadata": {},
   "outputs": [
    {
     "name": "stdout",
     "output_type": "stream",
     "text": [
      "114. Supraventricular tachycardia (PREDS_TAH): Nominal\n",
      "0.16666666666666666\n",
      "0.9450980392156862\n",
      "[[481  23]\n",
      " [  5   1]]\n",
      "              precision    recall  f1-score   support\n",
      "\n",
      "         0.0       0.99      0.95      0.97       504\n",
      "         1.0       0.04      0.17      0.07         6\n",
      "\n",
      "    accuracy                           0.95       510\n",
      "   macro avg       0.52      0.56      0.52       510\n",
      "weighted avg       0.98      0.95      0.96       510\n",
      "\n",
      "f1_score:  0.06666666666666667\n"
     ]
    }
   ],
   "source": [
    "model = DecisionTreeClassifier()\n",
    "model.fit(X_train_sen, Y_train_sen)\n",
    "predictions = model.predict(X_validation)\n",
    "# Evaluate predictions\n",
    "f1 = f1_score(Y_validation, predictions)\n",
    "print('114. Supraventricular tachycardia (PREDS_TAH): Nominal')\n",
    "print(recall_score(Y_validation, predictions))\n",
    "print(accuracy_score(Y_validation, predictions))\n",
    "print(confusion_matrix(Y_validation, predictions))\n",
    "print(classification_report(Y_validation, predictions))\n",
    "print('f1_score: ', f1)"
   ]
  },
  {
   "cell_type": "code",
   "execution_count": 76,
   "id": "5ce403c4-1295-46db-b670-0a1539f62948",
   "metadata": {},
   "outputs": [
    {
     "name": "stdout",
     "output_type": "stream",
     "text": [
      "114. Supraventricular tachycardia (PREDS_TAH): Nominal\n",
      "0.0\n",
      "0.7156862745098039\n",
      "[[365 139]\n",
      " [  6   0]]\n",
      "              precision    recall  f1-score   support\n",
      "\n",
      "         0.0       0.98      0.72      0.83       504\n",
      "         1.0       0.00      0.00      0.00         6\n",
      "\n",
      "    accuracy                           0.72       510\n",
      "   macro avg       0.49      0.36      0.42       510\n",
      "weighted avg       0.97      0.72      0.82       510\n",
      "\n",
      "f1_score:  0.0\n"
     ]
    }
   ],
   "source": [
    "model = KNeighborsClassifier()\n",
    "model.fit(X_train_sen, Y_train_sen)\n",
    "predictions = model.predict(X_validation)\n",
    "# Evaluate predictions\n",
    "f1 = f1_score(Y_validation, predictions)\n",
    "print('114. Supraventricular tachycardia (PREDS_TAH): Nominal')\n",
    "print(recall_score(Y_validation, predictions))\n",
    "print(accuracy_score(Y_validation, predictions))\n",
    "print(confusion_matrix(Y_validation, predictions))\n",
    "print(classification_report(Y_validation, predictions))\n",
    "print('f1_score: ', f1)"
   ]
  },
  {
   "cell_type": "markdown",
   "id": "ef26fd02-9496-4096-9ef3-b03352863856",
   "metadata": {},
   "source": [
    "Vemos nestes três algoritmos que apesar de árvore de decisão dar a maior acurácia, no ramo da saúde, devemos prezar pela maior precaução, exemplo: Se minha máquina apontar que dará negativo para algum paciente em alguma complicação, porém no futuro ele acabar por tê-la, é pior do que se meu programa apontar positivo e no futuro ele não ter, neste caso o algoritmo de LDA se saiu na frente visto que em 6 casos, ele preveu 5 corretamente e deu um como erro, apresentando recall de 83%. "
   ]
  },
  {
   "cell_type": "markdown",
   "id": "d520109d-89c0-4276-a0e3-9ba132a67bd1",
   "metadata": {},
   "source": [
    "## Melhor algoritmo considerando esta base de dados é o que apresentar maior Recall"
   ]
  },
  {
   "cell_type": "markdown",
   "id": "203b687d-382d-4a0b-a536-dd5493161616",
   "metadata": {},
   "source": [
    "Outros exemplos de saídas: "
   ]
  },
  {
   "cell_type": "code",
   "execution_count": 93,
   "id": "386e6b0d-d3bf-4430-84e7-f694b665bdbc",
   "metadata": {},
   "outputs": [
    {
     "name": "stdout",
     "output_type": "stream",
     "text": [
      "124. Lethal outcome (cause) (LET_IS): Structure\n",
      "0.5431372549019607\n",
      "[[256  19  10  66  25   8  37  16]\n",
      " [  3  11   0   5   1   1   4   1]\n",
      " [  2   0   0   0   0   0   1   1]\n",
      " [  4   2   1   6   2   1   2   0]\n",
      " [  1   0   0   4   2   0   0   1]\n",
      " [  2   0   1   0   0   0   0   1]\n",
      " [  1   0   3   1   1   0   0   1]\n",
      " [  3   0   0   1   0   0   0   2]]\n",
      "              precision    recall  f1-score   support\n",
      "\n",
      "         0.0       0.94      0.59      0.72       437\n",
      "         1.0       0.34      0.42      0.38        26\n",
      "         2.0       0.00      0.00      0.00         4\n",
      "         3.0       0.07      0.33      0.12        18\n",
      "         4.0       0.06      0.25      0.10         8\n",
      "         5.0       0.00      0.00      0.00         4\n",
      "         6.0       0.00      0.00      0.00         7\n",
      "         7.0       0.09      0.33      0.14         6\n",
      "\n",
      "    accuracy                           0.54       510\n",
      "   macro avg       0.19      0.24      0.18       510\n",
      "weighted avg       0.83      0.54      0.65       510\n",
      "\n"
     ]
    }
   ],
   "source": [
    "# Make predictions on validation dataset\n",
    "model = LinearDiscriminantAnalysis()\n",
    "model.fit(X_train, Y_train)\n",
    "predictions = model.predict(X_validation)\n",
    "# Evaluate predictions\n",
    "\n",
    "print('124. Lethal outcome (cause) (LET_IS): Structure')\n",
    "print(accuracy_score(Y_validation, predictions))\n",
    "print(confusion_matrix(Y_validation, predictions))\n",
    "print(classification_report(Y_validation, predictions))\n"
   ]
  },
  {
   "cell_type": "code",
   "execution_count": 94,
   "id": "143f38a0-e4d9-498c-b7a5-df830470d93d",
   "metadata": {},
   "outputs": [
    {
     "name": "stdout",
     "output_type": "stream",
     "text": [
      "124. Lethal outcome (cause) (LET_IS): Structure\n",
      "0.5568627450980392\n",
      "[[273  44  14  38  12   7  35  14]\n",
      " [  6  10   2   2   0   1   3   2]\n",
      " [  3   0   0   1   0   0   0   0]\n",
      " [  6   4   1   1   2   0   2   2]\n",
      " [  2   3   1   2   0   0   0   0]\n",
      " [  1   0   0   1   1   0   1   0]\n",
      " [  2   1   1   1   1   0   0   1]\n",
      " [  4   1   0   0   0   0   1   0]]\n",
      "              precision    recall  f1-score   support\n",
      "\n",
      "         0.0       0.92      0.62      0.74       437\n",
      "         1.0       0.16      0.38      0.22        26\n",
      "         2.0       0.00      0.00      0.00         4\n",
      "         3.0       0.02      0.06      0.03        18\n",
      "         4.0       0.00      0.00      0.00         8\n",
      "         5.0       0.00      0.00      0.00         4\n",
      "         6.0       0.00      0.00      0.00         7\n",
      "         7.0       0.00      0.00      0.00         6\n",
      "\n",
      "    accuracy                           0.56       510\n",
      "   macro avg       0.14      0.13      0.12       510\n",
      "weighted avg       0.80      0.56      0.65       510\n",
      "\n"
     ]
    }
   ],
   "source": [
    "# Make predictions on validation dataset\n",
    "model = DecisionTreeClassifier()\n",
    "model.fit(X_train, Y_train)\n",
    "predictions = model.predict(X_validation)\n",
    "# Evaluate predictions\n",
    "\n",
    "print('124. Lethal outcome (cause) (LET_IS): Structure')\n",
    "print(accuracy_score(Y_validation, predictions))\n",
    "print(confusion_matrix(Y_validation, predictions))\n",
    "print(classification_report(Y_validation, predictions))\n"
   ]
  },
  {
   "cell_type": "code",
   "execution_count": 95,
   "id": "37b2ba76-cb7f-4617-bc3e-edfec596f3ea",
   "metadata": {},
   "outputs": [
    {
     "name": "stdout",
     "output_type": "stream",
     "text": [
      "124. Lethal outcome (cause) (LET_IS): Structure\n",
      "0.3843137254901961\n",
      "[[177  34  39  61  49  15  22  40]\n",
      " [  5   9   1   2   1   1   4   3]\n",
      " [  1   0   0   0   0   1   2   0]\n",
      " [  2   6   2   6   1   0   1   0]\n",
      " [  4   0   0   0   1   0   1   2]\n",
      " [  0   0   1   1   0   0   0   2]\n",
      " [  1   1   0   2   0   0   2   1]\n",
      " [  2   2   0   1   0   0   0   1]]\n",
      "              precision    recall  f1-score   support\n",
      "\n",
      "         0.0       0.92      0.41      0.56       437\n",
      "         1.0       0.17      0.35      0.23        26\n",
      "         2.0       0.00      0.00      0.00         4\n",
      "         3.0       0.08      0.33      0.13        18\n",
      "         4.0       0.02      0.12      0.03         8\n",
      "         5.0       0.00      0.00      0.00         4\n",
      "         6.0       0.06      0.29      0.10         7\n",
      "         7.0       0.02      0.17      0.04         6\n",
      "\n",
      "    accuracy                           0.38       510\n",
      "   macro avg       0.16      0.21      0.14       510\n",
      "weighted avg       0.80      0.38      0.50       510\n",
      "\n"
     ]
    }
   ],
   "source": [
    "# Make predictions on validation dataset\n",
    "model = KNeighborsClassifier()\n",
    "model.fit(X_train, Y_train)\n",
    "predictions = model.predict(X_validation)\n",
    "# Evaluate predictions\n",
    "\n",
    "print('124. Lethal outcome (cause) (LET_IS): Structure')\n",
    "print(accuracy_score(Y_validation, predictions))\n",
    "print(confusion_matrix(Y_validation, predictions))\n",
    "print(classification_report(Y_validation, predictions))\n"
   ]
  },
  {
   "cell_type": "code",
   "execution_count": 107,
   "id": "6f668e33-506f-4266-97df-db9c0b83f87c",
   "metadata": {},
   "outputs": [
    {
     "name": "stdout",
     "output_type": "stream",
     "text": [
      "121. Chronic heart failure (ZSN): Nominal\n",
      "0.5313725490196078\n",
      "[[176 211]\n",
      " [ 28  95]]\n",
      "              precision    recall  f1-score   support\n",
      "\n",
      "         0.0       0.86      0.45      0.60       387\n",
      "         1.0       0.31      0.77      0.44       123\n",
      "\n",
      "    accuracy                           0.53       510\n",
      "   macro avg       0.59      0.61      0.52       510\n",
      "weighted avg       0.73      0.53      0.56       510\n",
      "\n",
      "121. Chronic heart failure (ZSN): Nominal\n"
     ]
    }
   ],
   "source": [
    "model = LinearDiscriminantAnalysis()\n",
    "model.fit(X_train, Y_train)\n",
    "predictions = model.predict(X_validation)\n",
    "# Evaluate predictions\n",
    "print('121. Chronic heart failure (ZSN): Nominal')\n",
    "print(accuracy_score(Y_validation, predictions))\n",
    "print(confusion_matrix(Y_validation, predictions))\n",
    "print(classification_report(Y_validation, predictions))\n",
    "print('121. Chronic heart failure (ZSN): Nominal')"
   ]
  },
  {
   "cell_type": "code",
   "execution_count": 110,
   "id": "f444b02f-aca0-49f8-abfa-c0fcc222f5a2",
   "metadata": {},
   "outputs": [
    {
     "name": "stdout",
     "output_type": "stream",
     "text": [
      "121. Chronic heart failure (ZSN): Nominal\n",
      "0.6607843137254902\n",
      "[[263 124]\n",
      " [ 49  74]]\n",
      "              precision    recall  f1-score   support\n",
      "\n",
      "         0.0       0.84      0.68      0.75       387\n",
      "         1.0       0.37      0.60      0.46       123\n",
      "\n",
      "    accuracy                           0.66       510\n",
      "   macro avg       0.61      0.64      0.61       510\n",
      "weighted avg       0.73      0.66      0.68       510\n",
      "\n",
      "121. Chronic heart failure (ZSN): Nominal\n"
     ]
    }
   ],
   "source": [
    "model = DecisionTreeClassifier()\n",
    "model.fit(X_train, Y_train)\n",
    "predictions = model.predict(X_validation)\n",
    "# Evaluate predictions\n",
    "print('121. Chronic heart failure (ZSN): Nominal')\n",
    "print(accuracy_score(Y_validation, predictions))\n",
    "print(confusion_matrix(Y_validation, predictions))\n",
    "print(classification_report(Y_validation, predictions))\n",
    "print('121. Chronic heart failure (ZSN): Nominal')"
   ]
  },
  {
   "cell_type": "code",
   "execution_count": 109,
   "id": "267321b0-b012-495d-a8e0-bd34e6641683",
   "metadata": {},
   "outputs": [
    {
     "name": "stdout",
     "output_type": "stream",
     "text": [
      "121. Chronic heart failure (ZSN): Nominal\n",
      "0.40980392156862744\n",
      "[[114 273]\n",
      " [ 28  95]]\n",
      "              precision    recall  f1-score   support\n",
      "\n",
      "         0.0       0.80      0.29      0.43       387\n",
      "         1.0       0.26      0.77      0.39       123\n",
      "\n",
      "    accuracy                           0.41       510\n",
      "   macro avg       0.53      0.53      0.41       510\n",
      "weighted avg       0.67      0.41      0.42       510\n",
      "\n",
      "121. Chronic heart failure (ZSN): Nominal\n"
     ]
    }
   ],
   "source": [
    "model = KNeighborsClassifier()\n",
    "model.fit(X_train, Y_train)\n",
    "predictions = model.predict(X_validation)\n",
    "# Evaluate predictions\n",
    "print('121. Chronic heart failure (ZSN): Nominal')\n",
    "print(accuracy_score(Y_validation, predictions))\n",
    "print(confusion_matrix(Y_validation, predictions))\n",
    "print(classification_report(Y_validation, predictions))\n",
    "print('121. Chronic heart failure (ZSN): Nominal')"
   ]
  },
  {
   "cell_type": "markdown",
   "id": "2912e5b5-0ccb-459f-9a83-236b11111646",
   "metadata": {},
   "source": [
    "## No caso da saída (121. Chronic heart failure (ZSN)) conseguimos novamente o maior recall em LDA sendo que o KNN também se aproximou, analisei várias saídas e acredito que avaliando os algoritmos eu escolheria o LDA para ser meu algoritmo, visto que, na maioria dos teste seu recall é muito bom, tendo uma margem de 80% em média outro que também trás uma boa aproximação é o KNN com um grande recall, a árvore saiu bem atrás desses dois na maioria dos testes e o QDA obteve colinearidade em muitas varíaveis sendo díficil sua análise."
   ]
  }
 ],
 "metadata": {
  "kernelspec": {
   "display_name": "venv",
   "language": "python",
   "name": "python3"
  },
  "language_info": {
   "codemirror_mode": {
    "name": "ipython",
    "version": 3
   },
   "file_extension": ".py",
   "mimetype": "text/x-python",
   "name": "python",
   "nbconvert_exporter": "python",
   "pygments_lexer": "ipython3",
   "version": "3.11.0 (main, Oct 24 2022, 18:26:48) [MSC v.1933 64 bit (AMD64)]"
  },
  "vscode": {
   "interpreter": {
    "hash": "3e585d2dcff161d8cf15ad8d96d173e6a71da3731215597532985d1440e45052"
   }
  }
 },
 "nbformat": 4,
 "nbformat_minor": 5
}
